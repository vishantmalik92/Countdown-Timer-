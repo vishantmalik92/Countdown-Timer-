{
 "cells": [
  {
   "cell_type": "markdown",
   "id": "8e625f25",
   "metadata": {},
   "source": [
    "# Countdown Timer Mini Project"
   ]
  },
  {
   "cell_type": "markdown",
   "id": "2063f263",
   "metadata": {},
   "source": [
    "# Approach\n",
    "\n",
    "In this project, I'll be using the time module and its sleep() function. Follow the below steps to create a countdown timer:"
   ]
  },
  {
   "cell_type": "code",
   "execution_count": 4,
   "id": "ecc06320",
   "metadata": {},
   "outputs": [
    {
     "name": "stdout",
     "output_type": "stream",
     "text": [
      "Enter the time in seconds: 1\n",
      "Time Up!!\n"
     ]
    }
   ],
   "source": [
    "import time\n",
    "\n",
    "# define the countdown func.\n",
    "def countdown(t):\n",
    "\n",
    "          while t:\n",
    "            mins, secs = divmod(t, 60)\n",
    "            timer = '{:02d}:{:02d}'.format(mins, secs)\n",
    "            print(timer, end=\"\\r\")\n",
    "            time.sleep(1)\n",
    "            t -= 1\n",
    "            \n",
    "            print('Time Up!!')\n",
    "\n",
    "\n",
    "\n",
    "\n",
    "# input time in seconds\n",
    "t = input(\"Enter the time in seconds: \")\n",
    "\n",
    "# function call\n",
    "countdown(int(t))\n"
   ]
  },
  {
   "cell_type": "markdown",
   "id": "e53284f7",
   "metadata": {},
   "source": [
    "# End Program #######################"
   ]
  }
 ],
 "metadata": {
  "kernelspec": {
   "display_name": "Python 3",
   "language": "python",
   "name": "python3"
  },
  "language_info": {
   "codemirror_mode": {
    "name": "ipython",
    "version": 3
   },
   "file_extension": ".py",
   "mimetype": "text/x-python",
   "name": "python",
   "nbconvert_exporter": "python",
   "pygments_lexer": "ipython3",
   "version": "3.8.8"
  }
 },
 "nbformat": 4,
 "nbformat_minor": 5
}
